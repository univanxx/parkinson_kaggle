{
 "cells": [
  {
   "cell_type": "code",
   "execution_count": 1,
   "metadata": {},
   "outputs": [],
   "source": [
    "import pandas as pd\n",
    "import numpy as np\n",
    "import os\n",
    "from tqdm.auto import tqdm"
   ]
  },
  {
   "cell_type": "code",
   "execution_count": 2,
   "metadata": {},
   "outputs": [],
   "source": [
    "all_dfs = []"
   ]
  },
  {
   "cell_type": "code",
   "execution_count": 3,
   "metadata": {},
   "outputs": [],
   "source": [
    "for file in os.listdir(\"./compete_data/train/defog/\"):\n",
    "    df = pd.read_csv(\"./compete_data/train/defog/\" + file)\n",
    "    df = df[df.Task == True][['Time', 'AccV', 'AccML', 'AccAP', 'StartHesitation', 'Turn', 'Walking']]\n",
    "    # print((df[['StartHesitation', 'Turn', 'Walking']].sum(axis=1) > 1).any())\n",
    "    all_dfs.append(df)"
   ]
  },
  {
   "cell_type": "code",
   "execution_count": 4,
   "metadata": {},
   "outputs": [],
   "source": [
    "for file in os.listdir(\"./compete_data/train/tdcsfog/\"):\n",
    "    df = pd.read_csv(\"./compete_data/train/tdcsfog/\" + file)\n",
    "    all_dfs.append(df)\n",
    "    # print((df[['StartHesitation', 'Turn', 'Walking']].sum(axis=1) > 1).any())"
   ]
  },
  {
   "cell_type": "code",
   "execution_count": null,
   "metadata": {},
   "outputs": [],
   "source": [
    "# final_df = pd.concat(all_dfs).reset_index(drop=True)"
   ]
  },
  {
   "cell_type": "code",
   "execution_count": null,
   "metadata": {},
   "outputs": [],
   "source": [
    "batches = []\n",
    "preds = []"
   ]
  },
  {
   "cell_type": "code",
   "execution_count": null,
   "metadata": {},
   "outputs": [
    {
     "name": "stderr",
     "output_type": "stream",
     "text": [
      "  4%|▍         | 36/924 [00:07<02:58,  4.97it/s]\n"
     ]
    },
    {
     "ename": "KeyboardInterrupt",
     "evalue": "",
     "output_type": "error",
     "traceback": [
      "\u001b[0;31m---------------------------------------------------------------------------\u001b[0m",
      "\u001b[0;31mKeyboardInterrupt\u001b[0m                         Traceback (most recent call last)",
      "Cell \u001b[0;32mIn[119], line 3\u001b[0m\n\u001b[1;32m      1\u001b[0m \u001b[39mfor\u001b[39;00m df_i \u001b[39min\u001b[39;00m tqdm(all_dfs):\n\u001b[1;32m      2\u001b[0m     \u001b[39mfor\u001b[39;00m idx \u001b[39min\u001b[39;00m \u001b[39mrange\u001b[39m(df_i\u001b[39m.\u001b[39mshape[\u001b[39m0\u001b[39m] \u001b[39m/\u001b[39m\u001b[39m/\u001b[39m \u001b[39m64\u001b[39m):\n\u001b[0;32m----> 3\u001b[0m         batches\u001b[39m.\u001b[39mappend(df_i\u001b[39m.\u001b[39;49miloc[idx\u001b[39m*\u001b[39;49m\u001b[39m64\u001b[39;49m:(idx\u001b[39m+\u001b[39;49m\u001b[39m1\u001b[39;49m)\u001b[39m*\u001b[39;49m\u001b[39m64\u001b[39;49m, :\u001b[39m4\u001b[39;49m])\n\u001b[1;32m      4\u001b[0m         preds\u001b[39m.\u001b[39mappend(df_i\u001b[39m.\u001b[39miloc[idx\u001b[39m*\u001b[39m\u001b[39m64\u001b[39m:(idx\u001b[39m+\u001b[39m\u001b[39m1\u001b[39m)\u001b[39m*\u001b[39m\u001b[39m64\u001b[39m,  :\u001b[39m4\u001b[39m])\n\u001b[1;32m      5\u001b[0m     batches\u001b[39m.\u001b[39mappend(df_i\u001b[39m.\u001b[39miloc[\u001b[39m-\u001b[39m(test_df\u001b[39m.\u001b[39mshape[\u001b[39m0\u001b[39m] \u001b[39m%\u001b[39m \u001b[39m64\u001b[39m):, :\u001b[39m4\u001b[39m])\n",
      "File \u001b[0;32m/gim/lv02/isviridov/code/parkinson_kaggle/parkinson_venv/lib/python3.8/site-packages/pandas/core/indexing.py:1067\u001b[0m, in \u001b[0;36m_LocationIndexer.__getitem__\u001b[0;34m(self, key)\u001b[0m\n\u001b[1;32m   1065\u001b[0m     \u001b[39mif\u001b[39;00m \u001b[39mself\u001b[39m\u001b[39m.\u001b[39m_is_scalar_access(key):\n\u001b[1;32m   1066\u001b[0m         \u001b[39mreturn\u001b[39;00m \u001b[39mself\u001b[39m\u001b[39m.\u001b[39mobj\u001b[39m.\u001b[39m_get_value(\u001b[39m*\u001b[39mkey, takeable\u001b[39m=\u001b[39m\u001b[39mself\u001b[39m\u001b[39m.\u001b[39m_takeable)\n\u001b[0;32m-> 1067\u001b[0m     \u001b[39mreturn\u001b[39;00m \u001b[39mself\u001b[39;49m\u001b[39m.\u001b[39;49m_getitem_tuple(key)\n\u001b[1;32m   1068\u001b[0m \u001b[39melse\u001b[39;00m:\n\u001b[1;32m   1069\u001b[0m     \u001b[39m# we by definition only have the 0th axis\u001b[39;00m\n\u001b[1;32m   1070\u001b[0m     axis \u001b[39m=\u001b[39m \u001b[39mself\u001b[39m\u001b[39m.\u001b[39maxis \u001b[39mor\u001b[39;00m \u001b[39m0\u001b[39m\n",
      "File \u001b[0;32m/gim/lv02/isviridov/code/parkinson_kaggle/parkinson_venv/lib/python3.8/site-packages/pandas/core/indexing.py:1567\u001b[0m, in \u001b[0;36m_iLocIndexer._getitem_tuple\u001b[0;34m(self, tup)\u001b[0m\n\u001b[1;32m   1564\u001b[0m \u001b[39mwith\u001b[39;00m suppress(IndexingError):\n\u001b[1;32m   1565\u001b[0m     \u001b[39mreturn\u001b[39;00m \u001b[39mself\u001b[39m\u001b[39m.\u001b[39m_getitem_lowerdim(tup)\n\u001b[0;32m-> 1567\u001b[0m \u001b[39mreturn\u001b[39;00m \u001b[39mself\u001b[39;49m\u001b[39m.\u001b[39;49m_getitem_tuple_same_dim(tup)\n",
      "File \u001b[0;32m/gim/lv02/isviridov/code/parkinson_kaggle/parkinson_venv/lib/python3.8/site-packages/pandas/core/indexing.py:924\u001b[0m, in \u001b[0;36m_LocationIndexer._getitem_tuple_same_dim\u001b[0;34m(self, tup)\u001b[0m\n\u001b[1;32m    921\u001b[0m \u001b[39mif\u001b[39;00m com\u001b[39m.\u001b[39mis_null_slice(key):\n\u001b[1;32m    922\u001b[0m     \u001b[39mcontinue\u001b[39;00m\n\u001b[0;32m--> 924\u001b[0m retval \u001b[39m=\u001b[39m \u001b[39mgetattr\u001b[39;49m(retval, \u001b[39mself\u001b[39;49m\u001b[39m.\u001b[39;49mname)\u001b[39m.\u001b[39;49m_getitem_axis(key, axis\u001b[39m=\u001b[39;49mi)\n\u001b[1;32m    925\u001b[0m \u001b[39m# We should never have retval.ndim < self.ndim, as that should\u001b[39;00m\n\u001b[1;32m    926\u001b[0m \u001b[39m#  be handled by the _getitem_lowerdim call above.\u001b[39;00m\n\u001b[1;32m    927\u001b[0m \u001b[39massert\u001b[39;00m retval\u001b[39m.\u001b[39mndim \u001b[39m==\u001b[39m \u001b[39mself\u001b[39m\u001b[39m.\u001b[39mndim\n",
      "File \u001b[0;32m/gim/lv02/isviridov/code/parkinson_kaggle/parkinson_venv/lib/python3.8/site-packages/pandas/core/indexing.py:1602\u001b[0m, in \u001b[0;36m_iLocIndexer._getitem_axis\u001b[0;34m(self, key, axis)\u001b[0m\n\u001b[1;32m   1596\u001b[0m     \u001b[39mraise\u001b[39;00m \u001b[39mIndexError\u001b[39;00m(\n\u001b[1;32m   1597\u001b[0m         \u001b[39m\"\u001b[39m\u001b[39mDataFrame indexer is not allowed for .iloc\u001b[39m\u001b[39m\\n\u001b[39;00m\u001b[39m\"\u001b[39m\n\u001b[1;32m   1598\u001b[0m         \u001b[39m\"\u001b[39m\u001b[39mConsider using .loc for automatic alignment.\u001b[39m\u001b[39m\"\u001b[39m\n\u001b[1;32m   1599\u001b[0m     )\n\u001b[1;32m   1601\u001b[0m \u001b[39mif\u001b[39;00m \u001b[39misinstance\u001b[39m(key, \u001b[39mslice\u001b[39m):\n\u001b[0;32m-> 1602\u001b[0m     \u001b[39mreturn\u001b[39;00m \u001b[39mself\u001b[39;49m\u001b[39m.\u001b[39;49m_get_slice_axis(key, axis\u001b[39m=\u001b[39;49maxis)\n\u001b[1;32m   1604\u001b[0m \u001b[39mif\u001b[39;00m is_iterator(key):\n\u001b[1;32m   1605\u001b[0m     key \u001b[39m=\u001b[39m \u001b[39mlist\u001b[39m(key)\n",
      "File \u001b[0;32m/gim/lv02/isviridov/code/parkinson_kaggle/parkinson_venv/lib/python3.8/site-packages/pandas/core/indexing.py:1638\u001b[0m, in \u001b[0;36m_iLocIndexer._get_slice_axis\u001b[0;34m(self, slice_obj, axis)\u001b[0m\n\u001b[1;32m   1636\u001b[0m labels \u001b[39m=\u001b[39m obj\u001b[39m.\u001b[39m_get_axis(axis)\n\u001b[1;32m   1637\u001b[0m labels\u001b[39m.\u001b[39m_validate_positional_slice(slice_obj)\n\u001b[0;32m-> 1638\u001b[0m \u001b[39mreturn\u001b[39;00m \u001b[39mself\u001b[39;49m\u001b[39m.\u001b[39;49mobj\u001b[39m.\u001b[39;49m_slice(slice_obj, axis\u001b[39m=\u001b[39;49maxis)\n",
      "File \u001b[0;32m/gim/lv02/isviridov/code/parkinson_kaggle/parkinson_venv/lib/python3.8/site-packages/pandas/core/generic.py:4105\u001b[0m, in \u001b[0;36mNDFrame._slice\u001b[0;34m(self, slobj, axis)\u001b[0m\n\u001b[1;32m   4103\u001b[0m \u001b[39massert\u001b[39;00m \u001b[39misinstance\u001b[39m(slobj, \u001b[39mslice\u001b[39m), \u001b[39mtype\u001b[39m(slobj)\n\u001b[1;32m   4104\u001b[0m axis \u001b[39m=\u001b[39m \u001b[39mself\u001b[39m\u001b[39m.\u001b[39m_get_block_manager_axis(axis)\n\u001b[0;32m-> 4105\u001b[0m result \u001b[39m=\u001b[39m \u001b[39mself\u001b[39m\u001b[39m.\u001b[39m_constructor(\u001b[39mself\u001b[39;49m\u001b[39m.\u001b[39;49m_mgr\u001b[39m.\u001b[39;49mget_slice(slobj, axis\u001b[39m=\u001b[39;49maxis))\n\u001b[1;32m   4106\u001b[0m result \u001b[39m=\u001b[39m result\u001b[39m.\u001b[39m__finalize__(\u001b[39mself\u001b[39m)\n\u001b[1;32m   4108\u001b[0m \u001b[39m# this could be a view\u001b[39;00m\n\u001b[1;32m   4109\u001b[0m \u001b[39m# but only in a single-dtyped view sliceable case\u001b[39;00m\n",
      "File \u001b[0;32m/gim/lv02/isviridov/code/parkinson_kaggle/parkinson_venv/lib/python3.8/site-packages/pandas/_libs/internals.pyx:825\u001b[0m, in \u001b[0;36mpandas._libs.internals.BlockManager.get_slice\u001b[0;34m()\u001b[0m\n",
      "File \u001b[0;32m/gim/lv02/isviridov/code/parkinson_kaggle/parkinson_venv/lib/python3.8/site-packages/pandas/core/internals/managers.py:912\u001b[0m, in \u001b[0;36mBaseBlockManager._slice_take_blocks_ax0\u001b[0;34m(self, slice_or_indexer, fill_value, only_slice, use_na_proxy)\u001b[0m\n\u001b[1;32m    910\u001b[0m         refs\u001b[39m.\u001b[39mappend(weakref\u001b[39m.\u001b[39mref(blk))\n\u001b[1;32m    911\u001b[0m \u001b[39melse\u001b[39;00m:\n\u001b[0;32m--> 912\u001b[0m     nb \u001b[39m=\u001b[39m blk\u001b[39m.\u001b[39;49mtake_nd(taker, axis\u001b[39m=\u001b[39;49m\u001b[39m0\u001b[39;49m, new_mgr_locs\u001b[39m=\u001b[39;49mmgr_locs)\n\u001b[1;32m    913\u001b[0m     blocks\u001b[39m.\u001b[39mappend(nb)\n\u001b[1;32m    914\u001b[0m     refs\u001b[39m.\u001b[39mappend(\u001b[39mNone\u001b[39;00m)\n",
      "File \u001b[0;32m/gim/lv02/isviridov/code/parkinson_kaggle/parkinson_venv/lib/python3.8/site-packages/pandas/core/internals/blocks.py:874\u001b[0m, in \u001b[0;36mBlock.take_nd\u001b[0;34m(self, indexer, axis, new_mgr_locs, fill_value)\u001b[0m\n\u001b[1;32m    871\u001b[0m values \u001b[39m=\u001b[39m \u001b[39mself\u001b[39m\u001b[39m.\u001b[39mvalues\n\u001b[1;32m    873\u001b[0m \u001b[39mif\u001b[39;00m fill_value \u001b[39mis\u001b[39;00m lib\u001b[39m.\u001b[39mno_default:\n\u001b[0;32m--> 874\u001b[0m     fill_value \u001b[39m=\u001b[39m \u001b[39mself\u001b[39;49m\u001b[39m.\u001b[39;49mfill_value\n\u001b[1;32m    875\u001b[0m     allow_fill \u001b[39m=\u001b[39m \u001b[39mFalse\u001b[39;00m\n\u001b[1;32m    876\u001b[0m \u001b[39melse\u001b[39;00m:\n",
      "File \u001b[0;32m/gim/lv02/isviridov/code/parkinson_kaggle/parkinson_venv/lib/python3.8/site-packages/pandas/_libs/properties.pyx:36\u001b[0m, in \u001b[0;36mpandas._libs.properties.CachedProperty.__get__\u001b[0;34m()\u001b[0m\n",
      "File \u001b[0;32m/gim/lv02/isviridov/code/parkinson_kaggle/parkinson_venv/lib/python3.8/site-packages/pandas/core/internals/blocks.py:204\u001b[0m, in \u001b[0;36mBlock.fill_value\u001b[0;34m(self)\u001b[0m\n\u001b[1;32m    200\u001b[0m \u001b[39m@final\u001b[39m\n\u001b[1;32m    201\u001b[0m \u001b[39m@cache_readonly\u001b[39m\n\u001b[1;32m    202\u001b[0m \u001b[39mdef\u001b[39;00m \u001b[39mfill_value\u001b[39m(\u001b[39mself\u001b[39m):\n\u001b[1;32m    203\u001b[0m     \u001b[39m# Used in reindex_indexer\u001b[39;00m\n\u001b[0;32m--> 204\u001b[0m     \u001b[39mreturn\u001b[39;00m na_value_for_dtype(\u001b[39mself\u001b[39;49m\u001b[39m.\u001b[39;49mdtype, compat\u001b[39m=\u001b[39;49m\u001b[39mFalse\u001b[39;49;00m)\n",
      "File \u001b[0;32m/gim/lv02/isviridov/code/parkinson_kaggle/parkinson_venv/lib/python3.8/site-packages/pandas/core/dtypes/missing.py:674\u001b[0m, in \u001b[0;36mna_value_for_dtype\u001b[0;34m(dtype, compat)\u001b[0m\n\u001b[1;32m    672\u001b[0m \u001b[39mif\u001b[39;00m \u001b[39misinstance\u001b[39m(dtype, ExtensionDtype):\n\u001b[1;32m    673\u001b[0m     \u001b[39mreturn\u001b[39;00m dtype\u001b[39m.\u001b[39mna_value\n\u001b[0;32m--> 674\u001b[0m \u001b[39melif\u001b[39;00m needs_i8_conversion(dtype):\n\u001b[1;32m    675\u001b[0m     \u001b[39mreturn\u001b[39;00m dtype\u001b[39m.\u001b[39mtype(\u001b[39m\"\u001b[39m\u001b[39mNaT\u001b[39m\u001b[39m\"\u001b[39m, \u001b[39m\"\u001b[39m\u001b[39mns\u001b[39m\u001b[39m\"\u001b[39m)\n\u001b[1;32m    676\u001b[0m \u001b[39melif\u001b[39;00m is_float_dtype(dtype):\n",
      "File \u001b[0;32m/gim/lv02/isviridov/code/parkinson_kaggle/parkinson_venv/lib/python3.8/site-packages/pandas/core/dtypes/common.py:1191\u001b[0m, in \u001b[0;36mneeds_i8_conversion\u001b[0;34m(arr_or_dtype)\u001b[0m\n\u001b[1;32m   1189\u001b[0m     \u001b[39mreturn\u001b[39;00m \u001b[39mFalse\u001b[39;00m\n\u001b[1;32m   1190\u001b[0m \u001b[39mif\u001b[39;00m \u001b[39misinstance\u001b[39m(arr_or_dtype, np\u001b[39m.\u001b[39mdtype):\n\u001b[0;32m-> 1191\u001b[0m     \u001b[39mreturn\u001b[39;00m arr_or_dtype\u001b[39m.\u001b[39;49mkind \u001b[39min\u001b[39;00m [\u001b[39m\"\u001b[39m\u001b[39mm\u001b[39m\u001b[39m\"\u001b[39m, \u001b[39m\"\u001b[39m\u001b[39mM\u001b[39m\u001b[39m\"\u001b[39m]\n\u001b[1;32m   1192\u001b[0m \u001b[39melif\u001b[39;00m \u001b[39misinstance\u001b[39m(arr_or_dtype, ExtensionDtype):\n\u001b[1;32m   1193\u001b[0m     \u001b[39mreturn\u001b[39;00m \u001b[39misinstance\u001b[39m(arr_or_dtype, (PeriodDtype, DatetimeTZDtype))\n",
      "\u001b[0;31mKeyboardInterrupt\u001b[0m: "
     ]
    }
   ],
   "source": [
    "for df_i in tqdm(all_dfs):\n",
    "    for idx in range(df_i.shape[0] // 64):\n",
    "        batches.append(df_i.iloc[idx*64:(idx+1)*64, :4])\n",
    "        preds.append(df_i.iloc[idx*64:(idx+1)*64,  :4])\n",
    "    batches.append(df_i.iloc[-(test_df.shape[0] % 64):, :4])\n",
    "    preds.append(df_i.iloc[-(test_df.shape[0] % 64):, :4])"
   ]
  },
  {
   "cell_type": "code",
   "execution_count": null,
   "metadata": {},
   "outputs": [],
   "source": []
  },
  {
   "cell_type": "code",
   "execution_count": null,
   "metadata": {},
   "outputs": [],
   "source": []
  },
  {
   "cell_type": "code",
   "execution_count": null,
   "metadata": {},
   "outputs": [],
   "source": []
  },
  {
   "cell_type": "code",
   "execution_count": null,
   "metadata": {},
   "outputs": [],
   "source": []
  }
 ],
 "metadata": {
  "kernelspec": {
   "display_name": "parkinson_venv",
   "language": "python",
   "name": "parkinson_venv"
  },
  "language_info": {
   "codemirror_mode": {
    "name": "ipython",
    "version": 3
   },
   "file_extension": ".py",
   "mimetype": "text/x-python",
   "name": "python",
   "nbconvert_exporter": "python",
   "pygments_lexer": "ipython3",
   "version": "3.8.0"
  },
  "orig_nbformat": 4
 },
 "nbformat": 4,
 "nbformat_minor": 2
}
